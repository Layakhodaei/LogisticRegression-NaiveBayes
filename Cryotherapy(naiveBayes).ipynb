{
 "cells": [
  {
   "cell_type": "code",
   "execution_count": 1,
   "id": "c3065e18",
   "metadata": {},
   "outputs": [],
   "source": [
    "#Importing required libraries\n",
    "import pandas as pd\n",
    "from sklearn.model_selection import KFold \n",
    "from sklearn.metrics import accuracy_score\n",
    "from sklearn.model_selection import cross_val_score\n",
    "from sklearn.naive_bayes import GaussianNB"
   ]
  },
  {
   "cell_type": "code",
   "execution_count": 2,
   "id": "3623cba9",
   "metadata": {},
   "outputs": [
    {
     "data": {
      "text/plain": [
       "(90, 7)"
      ]
     },
     "execution_count": 2,
     "metadata": {},
     "output_type": "execute_result"
    }
   ],
   "source": [
    "#Loading the dataset\n",
    "df = pd.read_csv(\"E:\\AUT\\Machine Learning\\PML_HW2\\Cryotherapy.csv\")\n",
    "df.shape"
   ]
  },
  {
   "cell_type": "code",
   "execution_count": 3,
   "id": "ecdcd9a4",
   "metadata": {},
   "outputs": [],
   "source": [
    "X = df.iloc[:,:-1]\n",
    "y = df.iloc[:,-1]"
   ]
  },
  {
   "cell_type": "code",
   "execution_count": 4,
   "id": "24b77b38",
   "metadata": {},
   "outputs": [
    {
     "name": "stdout",
     "output_type": "stream",
     "text": [
      "Cross validation is: 2 and avg accuracy is: 0.8666666666666667\n",
      "Cross validation is: 3 and avg accuracy is: 0.8555555555555556\n",
      "Cross validation is: 4 and avg accuracy is: 0.8557312252964427\n",
      "Cross validation is: 5 and avg accuracy is: 0.8333333333333334\n",
      "Cross validation is: 6 and avg accuracy is: 0.8555555555555556\n",
      "Cross validation is: 7 and avg accuracy is: 0.8351648351648352\n",
      "Cross validation is: 8 and avg accuracy is: 0.856060606060606\n",
      "Cross validation is: 9 and avg accuracy is: 0.8444444444444446\n",
      "Cross validation is: 10 and avg accuracy is: 0.8333333333333333\n"
     ]
    }
   ],
   "source": [
    "#Implementing cross validation\n",
    " \n",
    "for i in range(2,11):\n",
    "    kf = KFold(n_splits=i, random_state=None)\n",
    "    nv = GaussianNB() # create a classifier\n",
    "    result = cross_val_score(nv , X, y, cv = kf)\n",
    "    print(\"Cross validation is:\",i,\"and avg accuracy is: {}\".format(result.mean()))"
   ]
  },
  {
   "cell_type": "code",
   "execution_count": null,
   "id": "2bb6c41f",
   "metadata": {},
   "outputs": [],
   "source": []
  }
 ],
 "metadata": {
  "kernelspec": {
   "display_name": "Python 3 (ipykernel)",
   "language": "python",
   "name": "python3"
  },
  "language_info": {
   "codemirror_mode": {
    "name": "ipython",
    "version": 3
   },
   "file_extension": ".py",
   "mimetype": "text/x-python",
   "name": "python",
   "nbconvert_exporter": "python",
   "pygments_lexer": "ipython3",
   "version": "3.9.7"
  }
 },
 "nbformat": 4,
 "nbformat_minor": 5
}
